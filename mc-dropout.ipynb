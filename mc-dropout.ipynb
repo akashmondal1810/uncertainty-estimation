{
 "cells": [
  {
   "cell_type": "code",
   "execution_count": 1,
   "metadata": {},
   "outputs": [
    {
     "name": "stderr",
     "output_type": "stream",
     "text": [
      "Using TensorFlow backend.\n"
     ]
    },
    {
     "name": "stdout",
     "output_type": "stream",
     "text": [
      "Downloading data from https://s3.amazonaws.com/img-datasets/mnist.npz\n",
      "11493376/11490434 [==============================] - 64s 6us/step\n",
      "60000 train samples\n",
      "10000 test samples\n"
     ]
    }
   ],
   "source": [
    "import keras\n",
    "from keras.datasets import mnist\n",
    "from keras.models import Sequential\n",
    "from keras.layers import Dense, Dropout\n",
    "from keras.optimizers import RMSprop\n",
    "\n",
    "\n",
    "batch_size = 128\n",
    "num_classes = 10\n",
    "epochs = 20\n",
    "\n",
    "# the data, shuffled and split between train and test sets\n",
    "(x_train, y_train), (x_test, y_test) = mnist.load_data()\n",
    "\n",
    "x_train = x_train.reshape(60000, 784)\n",
    "x_test = x_test.reshape(10000, 784)\n",
    "x_train = x_train.astype('float32')\n",
    "x_test = x_test.astype('float32')\n",
    "x_train /= 255\n",
    "x_test /= 255\n",
    "print(x_train.shape[0], 'train samples')\n",
    "print(x_test.shape[0], 'test samples')\n",
    "\n",
    "# convert class vectors to binary class matrices\n",
    "y_train = keras.utils.to_categorical(y_train, num_classes)\n",
    "y_test = keras.utils.to_categorical(y_test, num_classes)"
   ]
  },
  {
   "cell_type": "code",
   "execution_count": 2,
   "metadata": {},
   "outputs": [
    {
     "name": "stdout",
     "output_type": "stream",
     "text": [
      "data.shape\t (60000, 784) \n",
      "target.shape \t (60000, 10)\n"
     ]
    }
   ],
   "source": [
    "print('data.shape\\t',x_train.shape, '\\ntarget.shape \\t',y_train.shape)"
   ]
  },
  {
   "cell_type": "code",
   "execution_count": 16,
   "metadata": {},
   "outputs": [],
   "source": [
    "from keras.regularizers import l2\n",
    "from keras.models import Sequential, Model, Input\n",
    "from keras.layers import Dense, Dropout\n",
    "\n",
    "\n",
    "\"\"\"\n",
    "using the functional API and setup dropout this way: Dropout(p)(input_tensor, training=True) in the call of \n",
    "the Dropout layer for both training and testing phase.\n",
    "\n",
    "Ref: https://github.com/keras-team/keras/issues/9412\n",
    "ref2: (Yarin Gal: Dropout as a Bayesian Approximation: Representing Model Uncertainty in Deep Learning)\n",
    "      https://github.com/yaringal/DropoutUncertaintyExps/blob/master/net/net.py \n",
    "\"\"\"\n",
    "\n",
    "def get_dropout(input_tensor, p=0.5, mc=False):\n",
    "    if mc:\n",
    "        return Dropout(p)(input_tensor, training=True)\n",
    "    else:\n",
    "        return Dropout(p)(input_tensor)\n",
    "\n",
    "def generate_dropout_model(mc=False, act=\"relu\"):\n",
    "    # We construct the network\n",
    "    inp = Input(shape=(784,))\n",
    "    x = get_dropout(inp, p=0.025, mc=mc)\n",
    "    x = Dense(1000, activation=act)(x)\n",
    "    x = get_dropout(x, p=0.05, mc=mc)\n",
    "    x = Dense(100, activation=act)(x)\n",
    "    x = get_dropout(x, p=0.05, mc=mc)\n",
    "    out = Dense(num_classes, activation='softmax')(x)\n",
    "\n",
    "    model = Model(inputs=inp, outputs=out)\n",
    "\n",
    "    model.compile(loss=keras.losses.categorical_crossentropy,\n",
    "                  optimizer='adam',\n",
    "                  metrics=['accuracy'])\n",
    "    return model"
   ]
  },
  {
   "cell_type": "code",
   "execution_count": 17,
   "metadata": {
    "scrolled": true
   },
   "outputs": [
    {
     "name": "stdout",
     "output_type": "stream",
     "text": [
      "Train on 60000 samples, validate on 10000 samples\n",
      "Epoch 1/20\n",
      "60000/60000 [==============================] - 10s 158us/step - loss: 0.2300 - accuracy: 0.9323 - val_loss: 0.1060 - val_accuracy: 0.9662\n",
      "Epoch 2/20\n",
      "60000/60000 [==============================] - 9s 158us/step - loss: 0.0882 - accuracy: 0.9730 - val_loss: 0.0895 - val_accuracy: 0.9711\n",
      "Epoch 3/20\n",
      "60000/60000 [==============================] - 9s 156us/step - loss: 0.0570 - accuracy: 0.9821 - val_loss: 0.0755 - val_accuracy: 0.9767\n",
      "Epoch 4/20\n",
      "60000/60000 [==============================] - 10s 168us/step - loss: 0.0432 - accuracy: 0.9855 - val_loss: 0.0707 - val_accuracy: 0.9782\n",
      "Epoch 5/20\n",
      "60000/60000 [==============================] - 10s 174us/step - loss: 0.0323 - accuracy: 0.9894 - val_loss: 0.0688 - val_accuracy: 0.9794\n",
      "Epoch 6/20\n",
      "60000/60000 [==============================] - 10s 174us/step - loss: 0.0282 - accuracy: 0.9903 - val_loss: 0.0739 - val_accuracy: 0.9778\n",
      "Epoch 7/20\n",
      "60000/60000 [==============================] - 11s 175us/step - loss: 0.0211 - accuracy: 0.9928 - val_loss: 0.0673 - val_accuracy: 0.9815\n",
      "Epoch 8/20\n",
      "60000/60000 [==============================] - 10s 169us/step - loss: 0.0218 - accuracy: 0.9926 - val_loss: 0.0834 - val_accuracy: 0.9769\n",
      "Epoch 9/20\n",
      "60000/60000 [==============================] - 10s 165us/step - loss: 0.0171 - accuracy: 0.9945 - val_loss: 0.0633 - val_accuracy: 0.9834\n",
      "Epoch 10/20\n",
      "60000/60000 [==============================] - 10s 166us/step - loss: 0.0148 - accuracy: 0.9951 - val_loss: 0.1015 - val_accuracy: 0.9742\n",
      "Epoch 11/20\n",
      "60000/60000 [==============================] - 10s 165us/step - loss: 0.0155 - accuracy: 0.9950 - val_loss: 0.0896 - val_accuracy: 0.9759\n",
      "Epoch 12/20\n",
      "60000/60000 [==============================] - 10s 166us/step - loss: 0.0137 - accuracy: 0.9955 - val_loss: 0.0816 - val_accuracy: 0.9800\n",
      "Epoch 13/20\n",
      "60000/60000 [==============================] - 10s 171us/step - loss: 0.0141 - accuracy: 0.9955 - val_loss: 0.0900 - val_accuracy: 0.9793\n",
      "Epoch 14/20\n",
      "60000/60000 [==============================] - 12s 207us/step - loss: 0.0088 - accuracy: 0.9971 - val_loss: 0.0834 - val_accuracy: 0.9804\n",
      "Epoch 15/20\n",
      "60000/60000 [==============================] - 12s 198us/step - loss: 0.0153 - accuracy: 0.9948 - val_loss: 0.0943 - val_accuracy: 0.9796\n",
      "Epoch 16/20\n",
      "60000/60000 [==============================] - 11s 181us/step - loss: 0.0115 - accuracy: 0.9961 - val_loss: 0.0781 - val_accuracy: 0.9818\n",
      "Epoch 17/20\n",
      "60000/60000 [==============================] - 10s 172us/step - loss: 0.0101 - accuracy: 0.9964 - val_loss: 0.0802 - val_accuracy: 0.9817\n",
      "Epoch 18/20\n",
      "60000/60000 [==============================] - 10s 171us/step - loss: 0.0073 - accuracy: 0.9974 - val_loss: 0.0840 - val_accuracy: 0.9818\n",
      "Epoch 19/20\n",
      "60000/60000 [==============================] - 11s 178us/step - loss: 0.0115 - accuracy: 0.9962 - val_loss: 0.0868 - val_accuracy: 0.9811\n",
      "Epoch 20/20\n",
      "60000/60000 [==============================] - 10s 173us/step - loss: 0.0079 - accuracy: 0.9972 - val_loss: 0.0813 - val_accuracy: 0.9834\n"
     ]
    }
   ],
   "source": [
    "mc_model = generate_dropout_model(mc=True, act=\"relu\")\n",
    "h_mc = mc_model.fit(x_train, y_train,\n",
    "                    batch_size=batch_size,\n",
    "                    epochs=epochs,\n",
    "                    verbose=1,\n",
    "                    validation_data=(x_test, y_test))"
   ]
  },
  {
   "cell_type": "code",
   "execution_count": 18,
   "metadata": {},
   "outputs": [
    {
     "data": {
      "image/png": "[encoded data removed]",
      "text/plain": [
       "<Figure size 1440x216 with 1 Axes>"
      ]
     },
     "metadata": {
      "needs_background": "light"
     },
     "output_type": "display_data"
    },
    {
     "name": "stdout",
     "output_type": "stream",
     "text": [
      "Test loss: 0.08640040498570238\n",
      "Test accuracy: 0.9825999736785889\n"
     ]
    }
   ],
   "source": [
    "import matplotlib.pyplot as plt\n",
    "plt.figure(figsize=(20, 3))\n",
    "plt.plot(h_mc.history['loss'])\n",
    "plt.title('Model trainning progress')\n",
    "plt.xlabel('# Epochs')\n",
    "plt.ylabel('loss')\n",
    "plt.ylim(0)\n",
    "plt.show()\n",
    "\n",
    "\n",
    "score = mc_model.evaluate(x_test, y_test, verbose=0)\n",
    "print('Test loss:', score[0])\n",
    "print('Test accuracy:', score[1])"
   ]
  },
  {
   "cell_type": "code",
   "execution_count": 19,
   "metadata": {},
   "outputs": [
    {
     "name": "stderr",
     "output_type": "stream",
     "text": [
      "100%|██████████| 500/500 [02:15<00:00,  3.69it/s]\n"
     ]
    }
   ],
   "source": [
    "import tqdm\n",
    "\n",
    "mc_predictions = []\n",
    "for i in tqdm.tqdm(range(500)):\n",
    "    y_p = mc_model.predict(x_test, batch_size=1000)\n",
    "    mc_predictions.append(y_p)"
   ]
  },
  {
   "cell_type": "code",
   "execution_count": 21,
   "metadata": {},
   "outputs": [
    {
     "name": "stdout",
     "output_type": "stream",
     "text": [
      "MC accuracy: 98.3%\n"
     ]
    }
   ],
   "source": [
    "from sklearn.metrics import accuracy_score\n",
    "# score of the mc model\n",
    "accs = []\n",
    "for y_p in mc_predictions:\n",
    "    acc = accuracy_score(y_test.argmax(axis=1), y_p.argmax(axis=1))\n",
    "    accs.append(acc)\n",
    "print(\"MC accuracy: {:.1%}\".format(sum(accs)/len(accs))) #taking the average"
   ]
  },
  {
   "cell_type": "code",
   "execution_count": 23,
   "metadata": {},
   "outputs": [
    {
     "name": "stdout",
     "output_type": "stream",
     "text": [
      "MC-ensemble accuracy: 98.5%\n"
     ]
    }
   ],
   "source": [
    "import numpy as np\n",
    "mc_ensemble_pred = np.array(mc_predictions).mean(axis=0).argmax(axis=1)\n",
    "ensemble_acc = accuracy_score(y_test.argmax(axis=1), mc_ensemble_pred)\n",
    "print(\"MC-ensemble accuracy: {:.1%}\".format(ensemble_acc))"
   ]
  },
  {
   "cell_type": "code",
   "execution_count": 24,
   "metadata": {},
   "outputs": [
    {
     "data": {
      "image/png": "[encoded data removed]",
      "text/plain": [
       "<Figure size 432x288 with 1 Axes>"
      ]
     },
     "metadata": {
      "needs_background": "light"
     },
     "output_type": "display_data"
    }
   ],
   "source": [
    "#distributions of the monte carlo predictions and in blue line the prediction of the ensemble.\n",
    "plt.hist(accs);\n",
    "plt.axvline(x=ensemble_acc, color=\"b\");"
   ]
  },
  {
   "cell_type": "code",
   "execution_count": 29,
   "metadata": {},
   "outputs": [
    {
     "name": "stdout",
     "output_type": "stream",
     "text": [
      "posterior mean: 4\n",
      "true label: 4\n",
      "\n",
      "class: 0; proba: 0.0%; var: 0.00% \n",
      "class: 1; proba: 0.0%; var: 0.11% \n",
      "class: 2; proba: 0.1%; var: 0.57% \n",
      "class: 3; proba: 0.0%; var: 0.00% \n",
      "class: 4; proba: 99.8%; var: 0.60% \n",
      "class: 5; proba: 0.0%; var: 0.00% \n",
      "class: 6; proba: 0.0%; var: 0.05% \n",
      "class: 7; proba: 0.0%; var: 0.02% \n",
      "class: 8; proba: 0.0%; var: 0.00% \n",
      "class: 9; proba: 0.0%; var: 0.00% \n"
     ]
    }
   ],
   "source": [
    "idx = 300\n",
    "\n",
    "p0 = np.array([p[idx] for p in mc_predictions])\n",
    "print(\"posterior mean: {}\".format(p0.mean(axis=0).argmax()))\n",
    "print(\"true label: {}\".format(y_test[idx].argmax()))\n",
    "print()\n",
    "# probability + variance\n",
    "for i, (prob, var) in enumerate(zip(p0.mean(axis=0), p0.std(axis=0))):\n",
    "    print(\"class: {}; proba: {:.1%}; var: {:.2%} \".format(i, prob, var))"
   ]
  },
  {
   "cell_type": "code",
   "execution_count": 30,
   "metadata": {},
   "outputs": [
    {
     "data": {
      "image/png": "[encoded data removed]",
      "text/plain": [
       "<Figure size 432x288 with 1 Axes>"
      ]
     },
     "metadata": {
      "needs_background": "light"
     },
     "output_type": "display_data"
    }
   ],
   "source": [
    "x, y = list(range(len(p0.mean(axis=0)))), p0.mean(axis=0)\n",
    "plt.plot(x, y);"
   ]
  },
  {
   "cell_type": "code",
   "execution_count": null,
   "metadata": {},
   "outputs": [],
   "source": []
  }
 ],
 "metadata": {
  "kernelspec": {
   "display_name": "Python 3",
   "language": "python",
   "name": "python3"
  },
  "language_info": {
   "codemirror_mode": {
    "name": "ipython",
    "version": 3
   },
   "file_extension": ".py",
   "mimetype": "text/x-python",
   "name": "python",
   "nbconvert_exporter": "python",
   "pygments_lexer": "ipython3",
   "version": "3.8.0"
  }
 },
 "nbformat": 4,
 "nbformat_minor": 2
}
