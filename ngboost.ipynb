{
 "cells": [
  {
   "cell_type": "code",
   "execution_count": 1,
   "metadata": {},
   "outputs": [],
   "source": [
    "import numpy as np\n",
    "import matplotlib.pyplot as plt\n",
    "import pandas as pd\n",
    "\n",
    "from ngboost import NGBClassifier\n",
    "from ngboost.distns import Bernoulli, k_categorical\n",
    "from ngboost.learners import default_tree_learner\n",
    "\n",
    "from sklearn.model_selection import train_test_split\n",
    "from sklearn import preprocessing\n",
    "\n",
    "import matplotlib.pyplot as plt\n",
    "plt.style.use(\"ggplot\")\n",
    "%matplotlib inline"
   ]
  },
  {
   "cell_type": "code",
   "execution_count": 2,
   "metadata": {},
   "outputs": [
    {
     "name": "stderr",
     "output_type": "stream",
     "text": [
      "Using TensorFlow backend.\n"
     ]
    },
    {
     "name": "stdout",
     "output_type": "stream",
     "text": [
      "60000 train samples\n",
      "10000 test samples\n",
      "[5 0 4 1 9 2 1 3 1 4]\n"
     ]
    }
   ],
   "source": [
    "import keras\n",
    "from keras.datasets import mnist\n",
    "# the data, shuffled and split between train and test sets\n",
    "(x_train, y_train), (x_test, y_test) = mnist.load_data()\n",
    "\n",
    "x_train = x_train.reshape(60000, 784)\n",
    "x_test = x_test.reshape(10000, 784)\n",
    "x_train = x_train.astype('float32')\n",
    "x_test = x_test.astype('float32')\n",
    "x_train /= 255\n",
    "x_test /= 255\n",
    "print(x_train.shape[0], 'train samples')\n",
    "print(x_test.shape[0], 'test samples')\n",
    "\n",
    "print(y_train[:10])"
   ]
  },
  {
   "cell_type": "code",
   "execution_count": 3,
   "metadata": {},
   "outputs": [
    {
     "name": "stdout",
     "output_type": "stream",
     "text": [
      "[iter 0] loss=2.3012 val_loss=0.0000 scale=0.5000 norm=6.0000\n",
      "[iter 100] loss=1.1269 val_loss=0.0000 scale=2.0000 norm=8.4588\n",
      "[iter 200] loss=0.6831 val_loss=0.0000 scale=2.0000 norm=6.3427\n",
      "[iter 300] loss=0.5413 val_loss=0.0000 scale=2.0000 norm=6.0811\n",
      "[iter 400] loss=0.4812 val_loss=0.0000 scale=1.0000 norm=3.0718\n"
     ]
    }
   ],
   "source": [
    "ngb = NGBClassifier(\n",
    "    Dist = k_categorical(10)\n",
    ")\n",
    "ngb.fit(x_train, y_train)\n",
    "\n",
    "preds = ngb.predict(x_test)\n",
    "prob_preds = ngb.pred_dist(x_test)"
   ]
  },
  {
   "cell_type": "code",
   "execution_count": 4,
   "metadata": {},
   "outputs": [
    {
     "name": "stdout",
     "output_type": "stream",
     "text": [
      "Test accuracy:  0.8563\n"
     ]
    }
   ],
   "source": [
    "from sklearn.metrics import accuracy_score\n",
    "acc = accuracy_score(y_test, preds)\n",
    "print(\"Test accuracy: \", acc)"
   ]
  },
  {
   "cell_type": "code",
   "execution_count": 26,
   "metadata": {},
   "outputs": [
    {
     "name": "stdout",
     "output_type": "stream",
     "text": [
      "true label: 2\n",
      "\n",
      "class: 0; proba: 13.72%; \n",
      "class: 1; proba: 0.00%; \n",
      "class: 2; proba: 83.95%; \n",
      "class: 3; proba: 1.33%; \n",
      "class: 4; proba: 0.02%; \n",
      "class: 5; proba: 0.32%; \n",
      "class: 6; proba: 0.01%; \n",
      "class: 7; proba: 0.49%; \n",
      "class: 8; proba: 0.07%; \n",
      "class: 9; proba: 0.09%; \n"
     ]
    }
   ],
   "source": [
    "idx = 400\n",
    "p0 = []\n",
    "for i in range(10):\n",
    "    p0.append(prob_preds.probs[i][idx])\n",
    "\n",
    "print(\"true label: {}\".format(y_test[idx]))\n",
    "print()\n",
    "# probability\n",
    "for i, prob in enumerate(p0):\n",
    "    print(\"class: {}; proba: {:.2%}; \".format(i, prob))"
   ]
  },
  {
   "cell_type": "code",
   "execution_count": 27,
   "metadata": {},
   "outputs": [
    {
     "data": {
      "image/png": "[encoded data removed]",
      "text/plain": [
       "<Figure size 432x288 with 1 Axes>"
      ]
     },
     "metadata": {
      "needs_background": "light"
     },
     "output_type": "display_data"
    }
   ],
   "source": [
    "x, y = list(range(len(p0))), p0\n",
    "plt.plot(x, y);"
   ]
  },
  {
   "cell_type": "code",
   "execution_count": null,
   "metadata": {},
   "outputs": [],
   "source": []
  },
  {
   "cell_type": "code",
   "execution_count": null,
   "metadata": {},
   "outputs": [],
   "source": []
  },
  {
   "cell_type": "code",
   "execution_count": null,
   "metadata": {},
   "outputs": [],
   "source": []
  },
  {
   "cell_type": "code",
   "execution_count": null,
   "metadata": {},
   "outputs": [],
   "source": []
  },
  {
   "cell_type": "code",
   "execution_count": null,
   "metadata": {},
   "outputs": [],
   "source": []
  },
  {
   "cell_type": "code",
   "execution_count": null,
   "metadata": {},
   "outputs": [],
   "source": []
  },
  {
   "cell_type": "code",
   "execution_count": null,
   "metadata": {},
   "outputs": [],
   "source": []
  }
 ],
 "metadata": {
  "kernelspec": {
   "display_name": "Python 3",
   "language": "python",
   "name": "python3"
  },
  "language_info": {
   "codemirror_mode": {
    "name": "ipython",
    "version": 3
   },
   "file_extension": ".py",
   "mimetype": "text/x-python",
   "name": "python",
   "nbconvert_exporter": "python",
   "pygments_lexer": "ipython3",
   "version": "3.8.0"
  }
 },
 "nbformat": 4,
 "nbformat_minor": 2
}
